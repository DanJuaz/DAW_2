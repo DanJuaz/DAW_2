{
 "cells": [
  {
   "cell_type": "code",
   "execution_count": null,
   "id": "8480d3b8",
   "metadata": {},
   "outputs": [],
   "source": [
    "num1 = int(input(\"Dame el primer numero: \"))\n",
    "num2 = int(input(\"Dame le seundo numero: \"))\n",
    "\n",
    "if num1 > num2:\n",
    "    print(f\"El {num1} es mayor que  {num2}\")\n",
    "elif num1 == num2: \n",
    "    print(f\"El {num1} es igual que  {num2}\")\n",
    "else:\n",
    "    print(f\"El {num2} es mayor que  {num1}\")"
   ]
  },
  {
   "cell_type": "code",
   "execution_count": null,
   "id": "2e9025f2",
   "metadata": {
    "scrolled": true
   },
   "outputs": [],
   "source": [
    "# Ejercicio 1 \n",
    "'''\n",
    "error\n",
    "2 mayor -> num2 - num1\n",
    "2 menor -> num1 + num2\n",
    "== -> *\n",
    "'''\n",
    "try:\n",
    "    num1 = int(input(\"Dame el primer numero: \"))\n",
    "    num2 = int(input(\"Dame le seundo numero: \"))\n",
    "except ValueError:\n",
    "    print(\"Formato incorrecto\")\n",
    "else:\n",
    "    if num2 > num1:\n",
    "        print(f\"El resultado es : {num2-num1}\")\n",
    "    elif num2 < num1:\n",
    "        print(f\"El resultado es : {num2+num1}\")\n",
    "    else:\n",
    "        print(f\"El resultado es : {num2*num1}\")\n"
   ]
  },
  {
   "cell_type": "code",
   "execution_count": null,
   "id": "aa86ad90",
   "metadata": {},
   "outputs": [],
   "source": [
    "# Reto Adivina el numero con FOR\n",
    "import random\n",
    "\n",
    "rnd = random.randint(1, 50)\n",
    "\n",
    "vidas =5\n",
    "print(\"Adivina el numero entre el 1 y 50\")\n",
    "print(f\"Tienes {vidas} intentos para adivinar el número secreto entre 1 y 10.\")\n",
    "print(\"------------------------------------------------------------\")\n",
    "\n",
    "for vida in range(vidas):\n",
    "    # Mientra que vida se encuentre en el rango vidas entra\n",
    "    res = int(input(\"Introduce un numero entero : \"))\n",
    "    if rnd != res:\n",
    "        vidas_restantes = vidas - vida\n",
    "        if res > rnd:\n",
    "            print(f\"El número misterioso es menor que {res}. Te quedan {vidas_restantes} intentos.\")\n",
    "\n",
    "        else:\n",
    "            print(f\"El número misterioso es mayor que {res}. Te quedan {vidas_restantes} intentos.\")\n",
    "    else:\n",
    "        print(\"¡Felicidades, has acertado!\")\n",
    "        break  # Sale del bucle for\n",
    "\n",
    "else:\n",
    "    print(f\"Lo siento, el número secreto era {rnd}. ¡Mejor suerte la próxima vez!\")"
   ]
  }
 ],
 "metadata": {
  "kernelspec": {
   "display_name": "Python 3 (ipykernel)",
   "language": "python",
   "name": "python3"
  },
  "language_info": {
   "codemirror_mode": {
    "name": "ipython",
    "version": 3
   },
   "file_extension": ".py",
   "mimetype": "text/x-python",
   "name": "python",
   "nbconvert_exporter": "python",
   "pygments_lexer": "ipython3",
   "version": "3.11.5"
  }
 },
 "nbformat": 4,
 "nbformat_minor": 5
}
